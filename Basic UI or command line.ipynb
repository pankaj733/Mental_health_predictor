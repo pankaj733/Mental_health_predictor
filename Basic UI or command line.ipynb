{
 "cells": [
  {
   "cell_type": "code",
   "execution_count": null,
   "metadata": {},
   "outputs": [],
   "source": [
    "import argparse\n",
    "\n",
    "def predict_condition(symptoms):\n",
    "    # Use the trained model to predict the condition\n",
    "    symptoms_encoded = le_symptoms.transform([symptoms])\n",
    "    prediction = rf_model.predict(symptoms_encoded.reshape(1, -1))\n",
    "    return le_conditions.inverse_transform(prediction)\n",
    "\n",
    "if __name__ == \"__main__\":\n",
    "    parser = argparse.ArgumentParser(description='Predict mental health condition based on symptoms.')\n",
    "    parser.add_argument('symptoms', type=str, help='Input symptoms')\n",
    "    args = parser.parse_args()\n",
    "    \n",
    "    predicted_condition = predict_condition(args.symptoms)\n",
    "    print(f'Predicted Mental Health Condition: {predicted_condition}')"
   ]
  }
 ],
 "metadata": {
  "language_info": {
   "name": "python"
  }
 },
 "nbformat": 4,
 "nbformat_minor": 2
}
