{
 "cells": [
  {
   "cell_type": "code",
   "execution_count": null,
   "metadata": {},
   "outputs": [],
   "source": [
    "import pandas as pd\n",
    "\n",
    "# Load datasets\n",
    "mental_health_data = pd.read_csv('mental_health_data.csv')  # Replace with your dataset path\n",
    "\n",
    "# Data Cleaning\n",
    "mental_health_data.dropna(inplace=True)  # Drop rows with missing values\n",
    "mental_health_data.reset_index(drop=True, inplace=True)\n",
    "\n",
    "# Normalize text data (e.g., lowercasing)\n",
    "mental_health_data['symptoms'] = mental_health_data['symptoms'].str.lower()"
   ]
  },
  {
   "cell_type": "code",
   "execution_count": null,
   "metadata": {},
   "outputs": [],
   "source": [
    "# Fill missing values with a placeholder or mean/median\n",
    "mental_health_data.fillna('unknown', inplace=True)"
   ]
  },
  {
   "cell_type": "code",
   "execution_count": null,
   "metadata": {},
   "outputs": [],
   "source": [
    "# Example of text normalization\n",
    "mental_health_data['symptoms'] = mental_health_data['symptoms'].str.replace('[^\\w\\s]', '')  # Remove punctuation"
   ]
  },
  {
   "cell_type": "code",
   "execution_count": null,
   "metadata": {},
   "outputs": [],
   "source": [
    "import seaborn as sns\n",
    "import matplotlib.pyplot as plt\n",
    "\n",
    "# Visualize relationships\n",
    "sns.countplot(data=mental_health_data, x='condition', hue='severity')\n",
    "plt.show()"
   ]
  },
  {
   "cell_type": "code",
   "execution_count": null,
   "metadata": {},
   "outputs": [],
   "source": [
    "from sklearn.preprocessing import LabelEncoder\n",
    "\n",
    "# Encode symptoms and conditions\n",
    "le_symptoms = LabelEncoder()\n",
    "le_conditions = LabelEncoder()\n",
    "\n",
    "mental_health_data['symptoms_encoded'] = le_symptoms.fit_transform(mental_health_data['symptoms'])\n",
    "mental_health_data['condition_encoded'] = le_conditions.fit_transform(mental_health_data['condition'])"
   ]
  },
  {
   "cell_type": "code",
   "execution_count": null,
   "metadata": {},
   "outputs": [],
   "source": [
    "from sklearn.preprocessing import LabelEncoder\n",
    "\n",
    "# Encode symptoms and conditions\n",
    "le_symptoms = LabelEncoder()\n",
    "le_conditions = LabelEncoder()\n",
    "\n",
    "mental_health_data['symptoms_encoded'] = le_symptoms.fit_transform(mental_health_data['symptoms'])\n",
    "mental_health_data['condition_encoded'] = le_conditions.fit_transform(mental_health_data['condition'])"
   ]
  },
  {
   "cell_type": "code",
   "execution_count": null,
   "metadata": {},
   "outputs": [],
   "source": [
    "# Select features and labels\n",
    "X = mental_health_data[['symptoms_encoded']]\n",
    "y = mental_health_data['condition_encoded']"
   ]
  }
 ],
 "metadata": {
  "language_info": {
   "name": "python"
  }
 },
 "nbformat": 4,
 "nbformat_minor": 2
}
